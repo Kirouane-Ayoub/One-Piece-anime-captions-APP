{
  "nbformat": 4,
  "nbformat_minor": 0,
  "metadata": {
    "colab": {
      "provenance": []
    },
    "kernelspec": {
      "name": "python3",
      "display_name": "Python 3"
    },
    "language_info": {
      "name": "python"
    }
  },
  "cells": [
    {
      "cell_type": "code",
      "execution_count": null,
      "metadata": {
        "id": "Qa2aGYkRXmIR"
      },
      "outputs": [],
      "source": [
        "! pip install gradio transformers"
      ]
    },
    {
      "cell_type": "code",
      "source": [
        "import gradio as gr\n",
        "from transformers import AutoProcessor,  AutoModelForCausalLM, pipeline\n",
        "import torch\n",
        "\n",
        "device = \"cuda\" if torch.cuda.is_available() else \"cpu\"\n",
        "checkpoint1 = \"ayoubkirouane/git-base-One-Piece\"\n",
        "processor = AutoProcessor.from_pretrained(checkpoint1)\n",
        "model1 = AutoModelForCausalLM.from_pretrained(checkpoint1)"
      ],
      "metadata": {
        "id": "803erk0aX0zL"
      },
      "execution_count": null,
      "outputs": []
    },
    {
      "cell_type": "code",
      "source": [
        "def img2cap(image):\n",
        "    input1 = processor(images=image, return_tensors=\"pt\").to(device)\n",
        "    pixel_values1 = input1.pixel_values\n",
        "    generated_id1 = model1.generate(pixel_values=pixel_values1, max_length=50)\n",
        "    generated_caption1 = processor.batch_decode(generated_id1, skip_special_tokens=True)[0]\n",
        "    return generated_caption1\n",
        "gr.Interface(\n",
        "    img2cap,\n",
        "    inputs = gr.inputs.Image(type=\"pil\", label=\"Original Image\"),\n",
        "    outputs= gr.outputs.Textbox(label=\"Caption from git-base-One-Piece model\"),\n",
        "    title = \"Image Captioning using git-base-One-Piece Model\",\n",
        "    description = \"git-base-One-Piece is used to generate Image Caption for the uploaded image.\",\n",
        "    theme=\"huggingface\",\n",
        ").launch(debug=True , share=True)"
      ],
      "metadata": {
        "id": "St3I_zXYXsAv"
      },
      "execution_count": null,
      "outputs": []
    }
  ]
}